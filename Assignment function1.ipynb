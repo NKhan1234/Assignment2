{
 "cells": [
  {
   "cell_type": "code",
   "execution_count": 1,
   "id": "6aace989-cd0c-4ede-8a8b-fc8a5647e4ef",
   "metadata": {},
   "outputs": [],
   "source": [
    "# Q1. Which keyword is used to create a function? Create a function to return a list of odd numbers in the\n",
    "# range of 1 to 25."
   ]
  },
  {
   "cell_type": "code",
   "execution_count": 2,
   "id": "828ab19f-dbd6-4119-ae03-70d0e0d7ffaa",
   "metadata": {},
   "outputs": [],
   "source": [
    "#  A1. def keyword used to creare a function."
   ]
  },
  {
   "cell_type": "code",
   "execution_count": null,
   "id": "61d48673-e894-48f5-9042-8271e600541d",
   "metadata": {},
   "outputs": [],
   "source": []
  },
  {
   "cell_type": "code",
   "execution_count": 3,
   "id": "016ea5ce-1b6b-434f-812d-b59509997e29",
   "metadata": {},
   "outputs": [
    {
     "data": {
      "text/plain": [
       "[1, 3, 5, 7, 9, 11, 13, 15, 17, 19, 21, 23]"
      ]
     },
     "execution_count": 3,
     "metadata": {},
     "output_type": "execute_result"
    }
   ],
   "source": [
    "l1 = []\n",
    "def odd_number():\n",
    "    for i in range(1,25):\n",
    "        if i % 2 != 0:\n",
    "            l1.append(i)\n",
    "    return l1\n",
    "        \n",
    "(odd_number())    "
   ]
  },
  {
   "cell_type": "code",
   "execution_count": 4,
   "id": "30131f6f-9e0c-42a9-af22-8dda1a65e531",
   "metadata": {},
   "outputs": [],
   "source": [
    "# Q2. Why *args and **kwargs is used in some functions? Create a function each for *args and **kwargs\n",
    "# to demonstrate their use.\n",
    "# A2. Our function’s argument when we have doubts about the number of arguments we should pass in a function."
   ]
  },
  {
   "cell_type": "code",
   "execution_count": 5,
   "id": "7b50c7f8-c57c-4e7e-a87f-fe1a59995d1b",
   "metadata": {},
   "outputs": [
    {
     "name": "stdout",
     "output_type": "stream",
     "text": [
      "Hello\n",
      "Welcome\n",
      "to\n",
      "the\n",
      "class\n"
     ]
    }
   ],
   "source": [
    "def func1(*args):\n",
    "    for arg in args:\n",
    "        print(arg)\n",
    " \n",
    " \n",
    "func1('Hello', 'Welcome', 'to', 'the', 'class')"
   ]
  },
  {
   "cell_type": "code",
   "execution_count": 6,
   "id": "9896557e-5635-4511-ac94-0498579a8702",
   "metadata": {},
   "outputs": [
    {
     "name": "stdout",
     "output_type": "stream",
     "text": [
      "{'name': 'nad', 'age': 23}\n"
     ]
    }
   ],
   "source": [
    "def func2(**kwargs):\n",
    "    print(kwargs)\n",
    "\n",
    "\n",
    "func2(name = 'nad', age = 23)"
   ]
  },
  {
   "cell_type": "code",
   "execution_count": 7,
   "id": "1c480c2e-65df-4ce8-8f5a-288250b263c7",
   "metadata": {},
   "outputs": [],
   "source": [
    "# Q3. What is an iterator in python? Name the method used to initialise the iterator object and the method\n",
    "# used for iteration. Use these methods to print the first five elements of the given list [2, 4, 6, 8, 10, 12, 14,\n",
    "# 16, 18, 20]."
   ]
  },
  {
   "cell_type": "code",
   "execution_count": 8,
   "id": "5ed07e4c-42bf-4fba-8ec8-e3f25541ea1a",
   "metadata": {},
   "outputs": [],
   "source": [
    "# A3. iterator is that things which used to iterate the items in the iterable object like list, tuple, etc.\n",
    "#     iter() and next() method used "
   ]
  },
  {
   "cell_type": "code",
   "execution_count": 9,
   "id": "ac6f5763-fdb6-4981-91f9-8c388323a6e9",
   "metadata": {},
   "outputs": [
    {
     "name": "stdout",
     "output_type": "stream",
     "text": [
      "2\n",
      "4\n",
      "6\n",
      "8\n",
      "10\n"
     ]
    }
   ],
   "source": [
    "l = [2, 4, 6, 8, 10, 12, 14, 16, 18, 20]\n",
    "a = iter(l)\n",
    "print(next(a))\n",
    "print(next(a))\n",
    "print(next(a))\n",
    "print(next(a))\n",
    "print(next(a))"
   ]
  },
  {
   "cell_type": "code",
   "execution_count": 10,
   "id": "09a13a37-e98a-4018-a678-28132adc12ad",
   "metadata": {},
   "outputs": [],
   "source": [
    "# Q4. What is a generator function in python? Why yield keyword is used? Give an example of a generator\n",
    "# function."
   ]
  },
  {
   "cell_type": "code",
   "execution_count": 11,
   "id": "3c021037-c689-487f-9bb4-35c7b38eeb5e",
   "metadata": {},
   "outputs": [],
   "source": [
    "# A4. A Python generator function allows you to declare a function that behaves like an iterator, providing a faster and \n",
    "#     easier way to create iterators.yield used because it execution is not consumed memory."
   ]
  },
  {
   "cell_type": "code",
   "execution_count": 12,
   "id": "c14bdcf5-7e30-4f24-8d6a-836a6bea6989",
   "metadata": {},
   "outputs": [],
   "source": [
    "l2 = [1,2,3,4,5]\n",
    "def gen():\n",
    "    l1 = []\n",
    "    for i in l2:\n",
    "        if i%2!=0:\n",
    "            yield i\n",
    "    l1.append(i)\n",
    "    return i\n"
   ]
  },
  {
   "cell_type": "code",
   "execution_count": 13,
   "id": "70255a64-a6d0-461b-a240-6f5a39954594",
   "metadata": {},
   "outputs": [
    {
     "data": {
      "text/plain": [
       "[1, 3, 5]"
      ]
     },
     "execution_count": 13,
     "metadata": {},
     "output_type": "execute_result"
    }
   ],
   "source": [
    "list(gen())"
   ]
  },
  {
   "cell_type": "code",
   "execution_count": 14,
   "id": "75bbabed-a104-4858-8602-bb8519db6dca",
   "metadata": {},
   "outputs": [],
   "source": [
    "# Q5. Create a generator function for prime numbers less than 1000. Use the next() method to print the\n",
    "# first 20 prime numbers."
   ]
  },
  {
   "cell_type": "code",
   "execution_count": 15,
   "id": "3914ae99-f777-4cf9-b535-ed6ef672700e",
   "metadata": {},
   "outputs": [
    {
     "name": "stdin",
     "output_type": "stream",
     "text": [
      "Input the number of prime numbers you want to generate?  20\n"
     ]
    },
    {
     "name": "stdout",
     "output_type": "stream",
     "text": [
      "First 20 Prime numbers:\n",
      "2\n",
      "3\n",
      "5\n",
      "7\n",
      "11\n",
      "13\n",
      "17\n",
      "19\n",
      "23\n",
      "29\n",
      "31\n",
      "37\n",
      "41\n",
      "43\n",
      "47\n",
      "53\n",
      "59\n",
      "61\n",
      "67\n",
      "71\n"
     ]
    }
   ],
   "source": [
    "def is_prime(n):\n",
    "    if n <= 1:\n",
    "        return False\n",
    "    for i in range(2, int(n**0.5) + 1):\n",
    "        if n % i == 0:\n",
    "            return False\n",
    "    return True\n",
    "\n",
    "def prime_nums_generator():\n",
    "    n = 2\n",
    "    while True:\n",
    "        if is_prime(n):\n",
    "            yield n\n",
    "        n += 1\n",
    "\n",
    "# Create the generator object\n",
    "primes = prime_nums_generator()\n",
    "\n",
    "# Accept input from the user\n",
    "n = int(input(\"Input the number of prime numbers you want to generate? \"))\n",
    "\n",
    "\n",
    "print(\"First\",20,\"Prime numbers:\")\n",
    "for _ in range(20):\n",
    "    (print(next(primes)))\n"
   ]
  },
  {
   "cell_type": "code",
   "execution_count": 16,
   "id": "84bcce6f-4df0-4137-b3be-47fe0c603bed",
   "metadata": {},
   "outputs": [],
   "source": [
    "# Q6. Write a python program to print the first 10 Fibonacci numbers using a while loop."
   ]
  },
  {
   "cell_type": "code",
   "execution_count": 17,
   "id": "42c8925e-7f6a-46d2-9d16-0dc12ba2a168",
   "metadata": {},
   "outputs": [
    {
     "name": "stdout",
     "output_type": "stream",
     "text": [
      "0 1 1 2 3 5 8 13 21 34 "
     ]
    }
   ],
   "source": [
    "a = 0\n",
    "b = 1\n",
    "sum = a + b\n",
    "count = 1\n",
    "while (count <= 10):\n",
    "\tcount += 1\n",
    "\tprint(a, end=\" \")\n",
    "\ta = b\n",
    "\tb = sum\n",
    "\tsum = a + b"
   ]
  },
  {
   "cell_type": "code",
   "execution_count": 18,
   "id": "1b27047e-d88a-46f2-b3e9-92d0fd30888e",
   "metadata": {},
   "outputs": [],
   "source": [
    "# Q7. Write a List Comprehension to iterate through the given string: ‘pwskills’.\n",
    "# Expected output: ['p', 'w', 's', 'k', 'i', 'l', 'l', 's']"
   ]
  },
  {
   "cell_type": "code",
   "execution_count": 19,
   "id": "47cdb4fa-d9d2-4cfb-b2be-d0ad4338891e",
   "metadata": {},
   "outputs": [
    {
     "name": "stdout",
     "output_type": "stream",
     "text": [
      "['p', 'w', 's', 'k', 'i', 'l', 'l', 's']\n"
     ]
    }
   ],
   "source": [
    "s = 'pwskills'\n",
    "a = [word for word in s if s.split()]\n",
    "print(a)"
   ]
  },
  {
   "cell_type": "code",
   "execution_count": null,
   "id": "e9b5b2f8-a8f2-4c2c-9010-bc169549f479",
   "metadata": {},
   "outputs": [],
   "source": [
    "# Q9. Write a code to print odd numbers from 1 to 100 using list comprehension.\n",
    "# A9. "
   ]
  },
  {
   "cell_type": "code",
   "execution_count": 6,
   "id": "378e8df4-c6ae-4169-8364-4b0f9c17af9a",
   "metadata": {},
   "outputs": [
    {
     "name": "stdout",
     "output_type": "stream",
     "text": [
      "[1, 3, 5, 7, 9, 11, 13, 15, 17, 19, 21, 23, 25, 27, 29, 31, 33, 35, 37, 39, 41, 43, 45, 47, 49, 51, 53, 55, 57, 59, 61, 63, 65, 67, 69, 71, 73, 75, 77, 79, 81, 83, 85, 87, 89, 91, 93, 95, 97, 99]\n"
     ]
    }
   ],
   "source": [
    "c = [i for i in range(1, 100) if i%2!=0]\n",
    "print(c)"
   ]
  },
  {
   "cell_type": "code",
   "execution_count": null,
   "id": "93070fa1-bf0b-4aea-8462-b271fa92c30a",
   "metadata": {},
   "outputs": [],
   "source": []
  }
 ],
 "metadata": {
  "kernelspec": {
   "display_name": "Python 3 (ipykernel)",
   "language": "python",
   "name": "python3"
  },
  "language_info": {
   "codemirror_mode": {
    "name": "ipython",
    "version": 3
   },
   "file_extension": ".py",
   "mimetype": "text/x-python",
   "name": "python",
   "nbconvert_exporter": "python",
   "pygments_lexer": "ipython3",
   "version": "3.10.8"
  }
 },
 "nbformat": 4,
 "nbformat_minor": 5
}
